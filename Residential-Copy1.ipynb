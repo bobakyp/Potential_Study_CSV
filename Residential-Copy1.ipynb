{
 "cells": [
  {
   "cell_type": "markdown",
   "id": "c95ebad1",
   "metadata": {},
   "source": [
    "# Residential Potential Study Figures"
   ]
  },
  {
   "cell_type": "markdown",
   "id": "50631fe0",
   "metadata": {},
   "source": [
    "#### 1. Import relevant packages"
   ]
  },
  {
   "cell_type": "code",
   "execution_count": 1,
   "id": "149c6c14",
   "metadata": {},
   "outputs": [],
   "source": [
    "import sys\n",
    "#import jupyterthemes as jt\n",
    "import os\n",
    "import glob\n",
    "import sqlalchemy\n",
    "import pandas as pd\n",
    "import numpy as np\n",
    "import ipywidgets as widgets\n",
    "import textwrap\n",
    "import ipywidgets\n",
    "from ipywidgets import interact, interactive, fixed, interact_manual\n",
    "import IPython.display\n",
    "#from IPython.display import display, clear_output\n",
    "\n",
    "#import plotly.graph_objects as go\n",
    "path1 = os.getcwd()\n",
    "sys.path.append(\"../../..\")"
   ]
  },
  {
   "cell_type": "code",
   "execution_count": 2,
   "id": "d7933ea0",
   "metadata": {},
   "outputs": [],
   "source": [
    "#from ipywidgets import FileUpload\n",
    "#upload = FileUpload()\n",
    "#display(\"Please upload the potential study flat file\")\n",
    "#upload\n",
    "\n"
   ]
  },
  {
   "cell_type": "code",
   "execution_count": 3,
   "id": "106076a3",
   "metadata": {},
   "outputs": [],
   "source": [
    "#[input_file] = upload.value\n",
    "#print(input_file)\n",
    "#df_Savings = pd.read_excel(input_file)"
   ]
  },
  {
   "cell_type": "code",
   "execution_count": 4,
   "id": "62ae702c",
   "metadata": {},
   "outputs": [],
   "source": [
    "#!jt -l"
   ]
  },
  {
   "cell_type": "code",
   "execution_count": 5,
   "id": "9983e49e",
   "metadata": {},
   "outputs": [],
   "source": [
    "#!jt -r "
   ]
  },
  {
   "cell_type": "markdown",
   "id": "18c2ff3e",
   "metadata": {},
   "source": [
    "#### 2. Grab and plot program specific yearly Market Potential savings data from Residential Potential Study Flat files"
   ]
  },
  {
   "cell_type": "code",
   "execution_count": 18,
   "id": "6f360545",
   "metadata": {},
   "outputs": [],
   "source": [
    "#import anvil.server\n",
    "#anvil.server.connect(\"IQ6PYOP366RGVOI3UYNKC5ME-DQP4URRW7PJNTP5U\")"
   ]
  },
  {
   "cell_type": "code",
   "execution_count": 19,
   "id": "2c12a844",
   "metadata": {},
   "outputs": [],
   "source": [
    "#@anvil.server.callable"
   ]
  },
  {
   "cell_type": "code",
   "execution_count": 20,
   "id": "d11fcd6b",
   "metadata": {},
   "outputs": [
    {
     "data": {
      "text/html": [
       "<h1>\n",
       "    <a name=\"_Toc97123251\">LADWP Efficiency Solutions Executive Summary</a>\n",
       "</h1>\n",
       "<h2>\n",
       "    <a name=\"_Toc97123252\">Overview</a>\n",
       "</h2>\n",
       "<p>\n",
       "    The Los Angeles Department of Water and Power (LADWP) is the largest\n",
       "    municipal utility in the nation, providing reliable energy and water\n",
       "    services to 4 million residents and 450,000 businesses in the City of Los\n",
       "    Angeles. As LADWP is moving toward a 100% clean energy future and\n",
       "    electrification of the buildings and transportation sectors, its Power\n",
       "    System is going through a complete transformation: increasing reliance on\n",
       "    distributed energy resources (DER) and including energy efficiency as part\n",
       "    of its resource strategy. LADWP complies with continuously changing targets\n",
       "    and goals set by federal, state, and local agencies as well as\n",
       "    international standards. It progressively increases renewable energy\n",
       "    resources, replaces coal, invests in infrastructure reliability, addresses\n",
       "    demand variability, reevaluates its repowering strategy, progresses the\n",
       "    electrification of the transportation sector, and ramps up energy\n",
       "    efficiency programs to carry out critical and concurrent strategic LADWP\n",
       "    actions.\n",
       "</p>"
      ],
      "text/plain": [
       "<IPython.core.display.HTML object>"
      ]
     },
     "metadata": {},
     "output_type": "display_data"
    }
   ],
   "source": [
    "from IPython.core.display import display, HTML\n",
    "Text = '''<h1>\n",
    "    <a name=\"_Toc97123251\">LADWP Efficiency Solutions Executive Summary</a>\n",
    "</h1>\n",
    "<h2>\n",
    "    <a name=\"_Toc97123252\">Overview</a>\n",
    "</h2>\n",
    "<p>\n",
    "    The Los Angeles Department of Water and Power (LADWP) is the largest\n",
    "    municipal utility in the nation, providing reliable energy and water\n",
    "    services to 4 million residents and 450,000 businesses in the City of Los\n",
    "    Angeles. As LADWP is moving toward a 100% clean energy future and\n",
    "    electrification of the buildings and transportation sectors, its Power\n",
    "    System is going through a complete transformation: increasing reliance on\n",
    "    distributed energy resources (DER) and including energy efficiency as part\n",
    "    of its resource strategy. LADWP complies with continuously changing targets\n",
    "    and goals set by federal, state, and local agencies as well as\n",
    "    international standards. It progressively increases renewable energy\n",
    "    resources, replaces coal, invests in infrastructure reliability, addresses\n",
    "    demand variability, reevaluates its repowering strategy, progresses the\n",
    "    electrification of the transportation sector, and ramps up energy\n",
    "    efficiency programs to carry out critical and concurrent strategic LADWP\n",
    "    actions.\n",
    "</p>'''\n",
    "display(HTML(Text))"
   ]
  },
  {
   "cell_type": "code",
   "execution_count": null,
   "id": "5bd55656",
   "metadata": {},
   "outputs": [],
   "source": []
  },
  {
   "cell_type": "code",
   "execution_count": 3,
   "id": "5962b00f",
   "metadata": {},
   "outputs": [
    {
     "data": {
      "application/vnd.jupyter.widget-view+json": {
       "model_id": "570a43316ffb4ecb9c832edf42cf44b2",
       "version_major": 2,
       "version_minor": 0
      },
      "text/plain": [
       "interactive(children=(Dropdown(description='Program:', index=11, options=('Consumer Rebate Program - Future Of…"
      ]
     },
     "metadata": {},
     "output_type": "display_data"
    },
    {
     "data": {
      "text/plain": [
       "<function __main__.func1(Program_name)>"
      ]
     },
     "execution_count": 3,
     "metadata": {},
     "output_type": "execute_result"
    }
   ],
   "source": [
    "# read each sheet of Resi excel file\n",
    "drop_down = ipywidgets.Dropdown(options = ['Consumer Rebate Program - Future Offering',\n",
    "                                           'Residential Lighting Efficiency Program', 'City Plants',\n",
    "                                           'Behavioral Program - Future Offering',\n",
    "                                           'Residential New Construction - Future Offering',\n",
    "                                           'Consumer Rebate Program', 'Efficient Product Marketplace',\n",
    "                                           'HVAC Optimization', 'Window AC Recycling',\n",
    "                                           'Refrigerator Turn-In & Recycle',\n",
    "                                           'HVAC Optimization - Future Offering', 'CAMR',\n",
    "                                           'Refrigerator Exchange', 'Home Energy Improvement Program',\n",
    "                                           'Efficient Product Marketplace - Future Offering',\n",
    "                                           'Residential Lighting Efficiency Program - Future Offering',\n",
    "                                           'Biz-CDI'],\n",
    "                                   value ='CAMR',\n",
    "                                   description = 'Program:',\n",
    "                                   disabled = False,\n",
    "                                   )\n",
    "def func1(Program_name):\n",
    "    df_Savings = pd.read_csv(\"PS_Residential_Results.csv\") #, sheet_name = 'Res Energy Savings')\n",
    "#df_TP_Savings = pd.read_excel('PS_Residential_Results.xlsx', sheet_name = 'Res TP')\n",
    "#df_Participants = pd.read_excel('PS_Residential_Results.xlsx', sheet_name = 'Res Participants')\n",
    "#df_Costs = pd.read_excel('PS_Residential_Results.xlsx', sheet_name = 'Res Costs')\n",
    "\n",
    "\n",
    "#Rename column headers\n",
    "    Program_Savings = df_Savings.loc[:,['Program','1.1','2.1','3.1','4.1','5.1','6.1','7.1','8.1','9.1','10.1','11.1','12.1','13.1','14.1','15.1','16.1','17.1','18.1','19.1','20.1']]\n",
    "    dict = {'1.1':'Year_2022','2.1':'Year_2023','3.1':'Year_2024',\\\n",
    "            '4.1':'Year_2025','5.1':'Year_2026','6.1':'Year_2027','7.1':'Year_2028','8.1':'Year_2029',\\\n",
    "            '9.1':'Year_2030','10.1':'Year_2031','11.1':'Year_2032','12.1':'Year_2033','13.1':'Year_2034',\\\n",
    "            '14.1':'Year_2035','15.1':'Year_2036','16.1':'Year_2037','17.1':'Year_2038','18.1':'Year_2039',\\\n",
    "            '19.1':'Year_2040','20.1':'Year_2041'}\n",
    "    Program_Savings.rename(columns=dict,inplace=True)\n",
    "    \n",
    "#condition for program name\n",
    "    #Program_name = ['CAMR']\n",
    "    Program_Savings = Program_Savings.loc[Program_Savings['Program'].isin([Program_name])] \n",
    "    # selecting rows based on program_name condition \n",
    "    \n",
    "    Program_Savings = Program_Savings.reset_index(drop=True)\n",
    "\n",
    "#display(Program_Savings)\n",
    "    Savings_PerYear = (Program_Savings.sum(axis = 0, skipna =True))\n",
    "    Savings_PerYear = Savings_PerYear.reset_index(drop = False)\n",
    "    Savings_PerYear = Savings_PerYear.drop(Savings_PerYear.index[[0]])\n",
    "    dict = {'index': 'Year', 0:'{} Market potential Savings'.format(Program_name)}\n",
    "    Savings_PerYear.rename(columns=dict,inplace=True)\n",
    "    Savings_PerYear = Savings_PerYear.reset_index(drop = True)\n",
    "    Savings_PerYear['{} Market potential Savings'.format(Program_name)] = \\\n",
    "    Savings_PerYear['{} Market potential Savings'.format(Program_name)].div(1000)\n",
    "#Savings_PerYear = Savings_PerYear.reset_index(drop = False)\n",
    "#display(Savings_PerYear)\n",
    "#display(Program_Savings.head())\n",
    "    Title = Program_name + 'Market potential Savings'\n",
    "    x = Savings_PerYear.plot('Year', '{} Market potential Savings'.format(Program_name) , xlabel='Year',ylabel='GWh')\n",
    "    x.set_title('{} Market potential Savings'.format(Program_name))\n",
    "    x.get_legend().remove()\n",
    "#, kind = 'scatter')\n",
    "    #return(x)\n",
    "    return(Savings_PerYear)\n",
    "#print(txt.format(price = 49))     \n",
    "ipywidgets.interact(func1, Program_name = drop_down )"
   ]
  },
  {
   "cell_type": "code",
   "execution_count": null,
   "id": "223038a7-4f55-4219-b68a-1d1424f2b5af",
   "metadata": {},
   "outputs": [],
   "source": []
  }
 ],
 "metadata": {
  "celltoolbar": "Edit Metadata",
  "kernelspec": {
   "display_name": "Python 3",
   "language": "python",
   "name": "python3"
  },
  "language_info": {
   "codemirror_mode": {
    "name": "ipython",
    "version": 3
   },
   "file_extension": ".py",
   "mimetype": "text/x-python",
   "name": "python",
   "nbconvert_exporter": "python",
   "pygments_lexer": "ipython3",
   "version": "3.8.8"
  }
 },
 "nbformat": 4,
 "nbformat_minor": 5
}
